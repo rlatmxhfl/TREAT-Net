{
 "cells": [
  {
   "cell_type": "code",
   "execution_count": 1,
   "metadata": {},
   "outputs": [],
   "source": [
    "import pandas as pd"
   ]
  },
  {
   "cell_type": "markdown",
   "metadata": {},
   "source": [
    "AUROC"
   ]
  },
  {
   "cell_type": "code",
   "execution_count": 2,
   "metadata": {},
   "outputs": [
    {
     "name": "stdout",
     "output_type": "stream",
     "text": [
      "Mean: 72.49600000000001\n",
      "Standard Deviation: 1.2246550534742455\n"
     ]
    }
   ],
   "source": [
    "values = pd.Series([72.13, 73.43, 73.60, 70.57, 72.75])\n",
    "\n",
    "print(\"Mean:\", values.mean())\n",
    "print(\"Standard Deviation:\", values.std()) "
   ]
  },
  {
   "cell_type": "markdown",
   "metadata": {},
   "source": [
    "BAcc"
   ]
  },
  {
   "cell_type": "code",
   "execution_count": 3,
   "metadata": {},
   "outputs": [
    {
     "name": "stdout",
     "output_type": "stream",
     "text": [
      "Mean: 66.324\n",
      "Standard Deviation: 1.856308164071903\n"
     ]
    }
   ],
   "source": [
    "values = pd.Series([63.82, 67.42, 68.44, 65.08, 66.86])\n",
    "\n",
    "print(\"Mean:\", values.mean())\n",
    "print(\"Standard Deviation:\", values.std()) "
   ]
  },
  {
   "cell_type": "markdown",
   "metadata": {},
   "source": [
    "20% SPE"
   ]
  },
  {
   "cell_type": "code",
   "execution_count": 4,
   "metadata": {},
   "outputs": [
    {
     "name": "stdout",
     "output_type": "stream",
     "text": [
      "Mean: 95.79400000000001\n",
      "Standard Deviation: 0.7841747254279536\n"
     ]
    }
   ],
   "source": [
    "values = pd.Series([95.75, 96.87, 96.20, 95.30, 94.85])\n",
    "\n",
    "print(\"Mean:\", values.mean())\n",
    "print(\"Standard Deviation:\", values.std()) "
   ]
  },
  {
   "cell_type": "markdown",
   "metadata": {},
   "source": [
    "40% SPE"
   ]
  },
  {
   "cell_type": "code",
   "execution_count": 5,
   "metadata": {},
   "outputs": [
    {
     "name": "stdout",
     "output_type": "stream",
     "text": [
      "Mean: 86.982\n",
      "Standard Deviation: 1.3826315488950762\n"
     ]
    }
   ],
   "source": [
    "values = pd.Series([87.47, 88.37, 86.58, 84.79, 87.70])\n",
    "\n",
    "print(\"Mean:\", values.mean())\n",
    "print(\"Standard Deviation:\", values.std()) "
   ]
  },
  {
   "cell_type": "markdown",
   "metadata": {},
   "source": [
    "60% SPE"
   ]
  },
  {
   "cell_type": "code",
   "execution_count": 6,
   "metadata": {},
   "outputs": [
    {
     "name": "stdout",
     "output_type": "stream",
     "text": [
      "Mean: 72.976\n",
      "Standard Deviation: 3.382370470542811\n"
     ]
    }
   ],
   "source": [
    "values = pd.Series([69.80, 74.05, 76.96, 69.13, 74.94])\n",
    "\n",
    "print(\"Mean:\", values.mean())\n",
    "print(\"Standard Deviation:\", values.std()) "
   ]
  }
 ],
 "metadata": {
  "kernelspec": {
   "display_name": "term2",
   "language": "python",
   "name": "python3"
  },
  "language_info": {
   "codemirror_mode": {
    "name": "ipython",
    "version": 3
   },
   "file_extension": ".py",
   "mimetype": "text/x-python",
   "name": "python",
   "nbconvert_exporter": "python",
   "pygments_lexer": "ipython3",
   "version": "3.12.7"
  }
 },
 "nbformat": 4,
 "nbformat_minor": 2
}
