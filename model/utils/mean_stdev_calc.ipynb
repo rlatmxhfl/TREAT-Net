{
 "cells": [
  {
   "cell_type": "code",
   "execution_count": 1,
   "metadata": {},
   "outputs": [],
   "source": [
    "import pandas as pd"
   ]
  },
  {
   "cell_type": "markdown",
   "metadata": {},
   "source": [
    "AUROC"
   ]
  },
  {
   "cell_type": "code",
   "execution_count": 12,
   "metadata": {},
   "outputs": [
    {
     "name": "stdout",
     "output_type": "stream",
     "text": [
      "Mean: 70.16199999999999\n",
      "Standard Deviation: 1.4943125509745283\n"
     ]
    }
   ],
   "source": [
    "values = pd.Series([69.99, 70.26, 72.56, 69.47, 68.53])\n",
    "\n",
    "print(\"Mean:\", values.mean())\n",
    "print(\"Standard Deviation:\", values.std()) "
   ]
  },
  {
   "cell_type": "markdown",
   "metadata": {},
   "source": [
    "BAcc"
   ]
  },
  {
   "cell_type": "code",
   "execution_count": 13,
   "metadata": {},
   "outputs": [
    {
     "name": "stdout",
     "output_type": "stream",
     "text": [
      "Mean: 61.6\n",
      "Standard Deviation: 3.2514996540058245\n"
     ]
    }
   ],
   "source": [
    "values = pd.Series([62.55, 63.46, 56.34, 64.73, 60.92])\n",
    "\n",
    "print(\"Mean:\", values.mean())\n",
    "print(\"Standard Deviation:\", values.std()) "
   ]
  },
  {
   "cell_type": "markdown",
   "metadata": {},
   "source": [
    "20% SPE"
   ]
  },
  {
   "cell_type": "code",
   "execution_count": 14,
   "metadata": {},
   "outputs": [
    {
     "name": "stdout",
     "output_type": "stream",
     "text": [
      "Mean: 94.26200000000001\n",
      "Standard Deviation: 1.947542040624542\n"
     ]
    }
   ],
   "source": [
    "values = pd.Series([96.42, 93.96, 91.72, 93.24, 95.97])\n",
    "\n",
    "print(\"Mean:\", values.mean())\n",
    "print(\"Standard Deviation:\", values.std()) "
   ]
  },
  {
   "cell_type": "markdown",
   "metadata": {},
   "source": [
    "40% SPE"
   ]
  },
  {
   "cell_type": "code",
   "execution_count": 15,
   "metadata": {},
   "outputs": [
    {
     "name": "stdout",
     "output_type": "stream",
     "text": [
      "Mean: 83.26399999999998\n",
      "Standard Deviation: 1.4609346323501313\n"
     ]
    }
   ],
   "source": [
    "values = pd.Series([85.23, 84.34, 81.88, 82.77, 82.10])\n",
    "\n",
    "print(\"Mean:\", values.mean())\n",
    "print(\"Standard Deviation:\", values.std()) "
   ]
  },
  {
   "cell_type": "markdown",
   "metadata": {},
   "source": [
    "60% SPE"
   ]
  },
  {
   "cell_type": "code",
   "execution_count": 16,
   "metadata": {},
   "outputs": [
    {
     "name": "stdout",
     "output_type": "stream",
     "text": [
      "Mean: 67.77000000000001\n",
      "Standard Deviation: 4.14581716914772\n"
     ]
    }
   ],
   "source": [
    "values = pd.Series([68.01, 70.25, 73.15, 64.35, 63.09])\n",
    "\n",
    "print(\"Mean:\", values.mean())\n",
    "print(\"Standard Deviation:\", values.std()) "
   ]
  }
 ],
 "metadata": {
  "kernelspec": {
   "display_name": "term2",
   "language": "python",
   "name": "python3"
  },
  "language_info": {
   "codemirror_mode": {
    "name": "ipython",
    "version": 3
   },
   "file_extension": ".py",
   "mimetype": "text/x-python",
   "name": "python",
   "nbconvert_exporter": "python",
   "pygments_lexer": "ipython3",
   "version": "3.12.7"
  }
 },
 "nbformat": 4,
 "nbformat_minor": 2
}
