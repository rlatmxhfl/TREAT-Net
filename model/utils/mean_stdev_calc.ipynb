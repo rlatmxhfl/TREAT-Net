{
 "cells": [
  {
   "cell_type": "code",
   "execution_count": 1,
   "metadata": {},
   "outputs": [],
   "source": [
    "import pandas as pd"
   ]
  },
  {
   "cell_type": "markdown",
   "metadata": {},
   "source": [
    "AUROC"
   ]
  },
  {
   "cell_type": "code",
   "execution_count": 2,
   "metadata": {},
   "outputs": [
    {
     "name": "stdout",
     "output_type": "stream",
     "text": [
      "Mean: 70.336\n",
      "Standard Deviation: 1.5929940363981292\n"
     ]
    }
   ],
   "source": [
    "values = pd.Series([69.06, 71.33, 72.65, 69.56, 69.08])\n",
    "\n",
    "print(\"Mean:\", values.mean())\n",
    "print(\"Standard Deviation:\", values.std()) "
   ]
  },
  {
   "cell_type": "markdown",
   "metadata": {},
   "source": [
    "BAcc"
   ]
  },
  {
   "cell_type": "code",
   "execution_count": 3,
   "metadata": {},
   "outputs": [
    {
     "name": "stdout",
     "output_type": "stream",
     "text": [
      "Mean: 63.148\n",
      "Standard Deviation: 1.9045524408637335\n"
     ]
    }
   ],
   "source": [
    "values = pd.Series([63.61, 65.04, 63.01, 64.07, 60.01])\n",
    "\n",
    "print(\"Mean:\", values.mean())\n",
    "print(\"Standard Deviation:\", values.std()) "
   ]
  },
  {
   "cell_type": "markdown",
   "metadata": {},
   "source": [
    "20% SPE"
   ]
  },
  {
   "cell_type": "code",
   "execution_count": 4,
   "metadata": {},
   "outputs": [
    {
     "name": "stdout",
     "output_type": "stream",
     "text": [
      "Mean: 94.76400000000001\n",
      "Standard Deviation: 1.5235747438179728\n"
     ]
    }
   ],
   "source": [
    "values = pd.Series([96.20, 94.41, 92.39, 94.85, 95.97])\n",
    "\n",
    "print(\"Mean:\", values.mean())\n",
    "print(\"Standard Deviation:\", values.std()) "
   ]
  },
  {
   "cell_type": "markdown",
   "metadata": {},
   "source": [
    "40% SPE"
   ]
  },
  {
   "cell_type": "code",
   "execution_count": 5,
   "metadata": {},
   "outputs": [
    {
     "name": "stdout",
     "output_type": "stream",
     "text": [
      "Mean: 83.536\n",
      "Standard Deviation: 1.555724911415897\n"
     ]
    }
   ],
   "source": [
    "values = pd.Series([84.34, 85.91, 82.55, 82.55, 82.33])\n",
    "\n",
    "print(\"Mean:\", values.mean())\n",
    "print(\"Standard Deviation:\", values.std()) "
   ]
  },
  {
   "cell_type": "markdown",
   "metadata": {},
   "source": [
    "60% SPE"
   ]
  },
  {
   "cell_type": "code",
   "execution_count": 6,
   "metadata": {},
   "outputs": [
    {
     "name": "stdout",
     "output_type": "stream",
     "text": [
      "Mean: 68.636\n",
      "Standard Deviation: 2.5712701141653724\n"
     ]
    }
   ],
   "source": [
    "values = pd.Series([67.79, 70.02, 72.26, 67.56, 65.55])\n",
    "\n",
    "print(\"Mean:\", values.mean())\n",
    "print(\"Standard Deviation:\", values.std()) "
   ]
  }
 ],
 "metadata": {
  "kernelspec": {
   "display_name": "term2",
   "language": "python",
   "name": "python3"
  },
  "language_info": {
   "codemirror_mode": {
    "name": "ipython",
    "version": 3
   },
   "file_extension": ".py",
   "mimetype": "text/x-python",
   "name": "python",
   "nbconvert_exporter": "python",
   "pygments_lexer": "ipython3",
   "version": "3.12.7"
  }
 },
 "nbformat": 4,
 "nbformat_minor": 2
}
