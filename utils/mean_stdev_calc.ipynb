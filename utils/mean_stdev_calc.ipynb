{
 "cells": [
  {
   "cell_type": "code",
   "execution_count": 2,
   "metadata": {},
   "outputs": [],
   "source": [
    "import pandas as pd"
   ]
  },
  {
   "cell_type": "markdown",
   "metadata": {},
   "source": [
    "AUROC"
   ]
  },
  {
   "cell_type": "code",
   "execution_count": 3,
   "metadata": {},
   "outputs": [
    {
     "name": "stdout",
     "output_type": "stream",
     "text": [
      "Mean: 68.946\n",
      "Standard Deviation: 0.3050901506112564\n"
     ]
    }
   ],
   "source": [
    "values = pd.Series([68.48, 69.28, 69.14, 68.87, 68.96])\n",
    "\n",
    "print(\"Mean:\", values.mean())\n",
    "print(\"Standard Deviation:\", values.std()) "
   ]
  },
  {
   "cell_type": "markdown",
   "metadata": {},
   "source": [
    "BAcc"
   ]
  },
  {
   "cell_type": "code",
   "execution_count": 4,
   "metadata": {},
   "outputs": [
    {
     "name": "stdout",
     "output_type": "stream",
     "text": [
      "Mean: 62.68599999999999\n",
      "Standard Deviation: 0.5884980883571344\n"
     ]
    }
   ],
   "source": [
    "values = pd.Series([62.43, 63.17, 63.42, 62.41, 62])\n",
    "\n",
    "print(\"Mean:\", values.mean())\n",
    "print(\"Standard Deviation:\", values.std()) "
   ]
  },
  {
   "cell_type": "markdown",
   "metadata": {},
   "source": [
    "20% SPE"
   ]
  },
  {
   "cell_type": "code",
   "execution_count": 5,
   "metadata": {},
   "outputs": [
    {
     "name": "stdout",
     "output_type": "stream",
     "text": [
      "Mean: 93.322\n",
      "Standard Deviation: 0.901703942544332\n"
     ]
    }
   ],
   "source": [
    "values = pd.Series([93.66, 94.07, 92.99, 91.90, 93.99])\n",
    "\n",
    "print(\"Mean:\", values.mean())\n",
    "print(\"Standard Deviation:\", values.std()) "
   ]
  },
  {
   "cell_type": "markdown",
   "metadata": {},
   "source": [
    "40% SPE"
   ]
  },
  {
   "cell_type": "code",
   "execution_count": 6,
   "metadata": {},
   "outputs": [
    {
     "name": "stdout",
     "output_type": "stream",
     "text": [
      "Mean: 82.822\n",
      "Standard Deviation: 1.346521444314943\n"
     ]
    }
   ],
   "source": [
    "values = pd.Series([84.47, 81.47, 81.39, 83.31, 83.47])\n",
    "\n",
    "print(\"Mean:\", values.mean())\n",
    "print(\"Standard Deviation:\", values.std()) "
   ]
  },
  {
   "cell_type": "markdown",
   "metadata": {},
   "source": [
    "60% SPE"
   ]
  },
  {
   "cell_type": "code",
   "execution_count": 7,
   "metadata": {},
   "outputs": [
    {
     "name": "stdout",
     "output_type": "stream",
     "text": [
      "Mean: 66.24600000000001\n",
      "Standard Deviation: 1.2350020242898403\n"
     ]
    }
   ],
   "source": [
    "values = pd.Series([65.86, 65.53, 64.86, 67.95, 67.03])\n",
    "\n",
    "print(\"Mean:\", values.mean())\n",
    "print(\"Standard Deviation:\", values.std()) "
   ]
  }
 ],
 "metadata": {
  "kernelspec": {
   "display_name": "term2",
   "language": "python",
   "name": "python3"
  },
  "language_info": {
   "codemirror_mode": {
    "name": "ipython",
    "version": 3
   },
   "file_extension": ".py",
   "mimetype": "text/x-python",
   "name": "python",
   "nbconvert_exporter": "python",
   "pygments_lexer": "ipython3",
   "version": "3.12.7"
  }
 },
 "nbformat": 4,
 "nbformat_minor": 2
}
