{
 "cells": [
  {
   "cell_type": "code",
   "execution_count": 1,
   "metadata": {},
   "outputs": [],
   "source": [
    "import torch"
   ]
  },
  {
   "cell_type": "code",
   "execution_count": 2,
   "metadata": {},
   "outputs": [
    {
     "name": "stdout",
     "output_type": "stream",
     "text": [
      "Type of object: <class 'list'>\n",
      "List length: 210\n",
      "First element type: <class 'dict'>\n",
      "First element content: {'label': 1, 'cad': -1, 'patient_id': '69', 'tp': 'PTCA', 'views': {'PLAX': array([[ 0.25495523,  0.9342771 ,  0.11559071, ...,  0.7157303 ,\n",
      "        -0.3565578 ,  0.02949224],\n",
      "       [ 0.1922782 ,  1.2644932 ,  0.25937518, ...,  0.34230447,\n",
      "        -0.17813218, -0.22040337],\n",
      "       [ 0.14924002,  1.35079   , -0.16134699, ...,  0.16369718,\n",
      "        -0.775699  ,  0.13790573],\n",
      "       [-0.05717593,  0.6736756 , -0.68054765, ...,  1.9572031 ,\n",
      "        -0.96460974, -0.36842778],\n",
      "       [ 0.88350105,  0.7886474 , -0.08706628, ...,  1.7333069 ,\n",
      "        -0.45654166, -0.42481494],\n",
      "       [ 1.0047398 ,  0.44731244, -0.9607726 , ...,  2.167223  ,\n",
      "        -1.4941393 , -0.3783182 ]], dtype=float32), 'AP4': array([[ 0.14630687,  1.0219306 , -0.33720222, ...,  0.8502394 ,\n",
      "        -0.9578891 ,  0.59779036],\n",
      "       [ 0.46995765,  0.23864129, -0.2573216 , ...,  1.4255054 ,\n",
      "        -1.0546024 ,  0.02288257],\n",
      "       [ 0.16252464,  1.729876  ,  0.26785725, ...,  0.96470785,\n",
      "        -0.42203766,  0.28853828],\n",
      "       [ 0.33765635,  0.6146794 , -0.787611  , ...,  1.12522   ,\n",
      "        -0.6821587 ,  0.6401395 ]], dtype=float32), 'AP2': array([[ 0.7580551 ,  0.6275029 , -1.0648443 , ...,  1.3599348 ,\n",
      "        -0.91296566,  0.71617067],\n",
      "       [ 0.5614253 ,  0.43325242,  0.15456899, ...,  0.64709765,\n",
      "        -0.46346042,  0.66152674],\n",
      "       [ 0.910784  ,  1.0664573 , -0.39539844, ...,  1.1967988 ,\n",
      "        -1.1162211 ,  0.57848173]], dtype=float32)}}\n"
     ]
    },
    {
     "name": "stderr",
     "output_type": "stream",
     "text": [
      "/tmp/ipykernel_1518/580427185.py:2: FutureWarning: You are using `torch.load` with `weights_only=False` (the current default value), which uses the default pickle module implicitly. It is possible to construct malicious pickle data which will execute arbitrary code during unpickling (See https://github.com/pytorch/pytorch/blob/main/SECURITY.md#untrusted-models for more details). In a future release, the default value for `weights_only` will be flipped to `True`. This limits the functions that could be executed during unpickling. Arbitrary objects will no longer be allowed to be loaded via this mode unless they are explicitly allowlisted by the user via `torch.serialization.add_safe_globals`. We recommend you start setting `weights_only=True` for any use case where you don't have full control of the loaded file. Please open an issue on GitHub for any issues related to this experimental feature.\n",
      "  data = torch.load(path, map_location=\"cpu\")\n"
     ]
    }
   ],
   "source": [
    "path = \"/raid/home/minht/workspace/datasets/cardiac/embeddings_v1/echoprime_val_grouped_by_patient.pt\"\n",
    "data = torch.load(path, map_location=\"cpu\")\n",
    "\n",
    "print(\"Type of object:\", type(data))\n",
    "\n",
    "# If it's a dict, print the keys\n",
    "if isinstance(data, dict):\n",
    "    print(\"Keys:\", list(data.keys()))\n",
    "\n",
    "# If it's a list, print its length and the type of first element\n",
    "elif isinstance(data, list):\n",
    "    print(\"List length:\", len(data))\n",
    "    print(\"First element type:\", type(data[0]))\n",
    "    print(\"First element content:\", data[0])  # careful if large\n",
    "\n",
    "# If it's a Tensor, check its shape and dtype\n",
    "elif torch.is_tensor(data):\n",
    "    print(\"Tensor shape:\", data.shape)\n",
    "    print(\"Tensor dtype:\", data.dtype)\n",
    "    print(\"Sample values:\", data[:5])\n",
    "else:\n",
    "    print(\"Unknown structure:\", data)"
   ]
  },
  {
   "cell_type": "code",
   "execution_count": 3,
   "metadata": {},
   "outputs": [
    {
     "name": "stdout",
     "output_type": "stream",
     "text": [
      "Number of patients: 210\n",
      "Keys in one patient dict: dict_keys(['label', 'cad', 'patient_id', 'tp', 'views'])\n",
      "Patient ID: 69\n",
      "Label: 1 TP: PTCA CAD: -1\n",
      "Views: ['PLAX', 'AP4', 'AP2']\n",
      "View PLAX: shape (6, 512), dtype float32\n",
      "View AP4: shape (4, 512), dtype float32\n",
      "View AP2: shape (3, 512), dtype float32\n"
     ]
    }
   ],
   "source": [
    "print(\"Number of patients:\", len(data))\n",
    "\n",
    "# Inspect the first element\n",
    "sample = data[0]\n",
    "print(\"Keys in one patient dict:\", sample.keys())\n",
    "print(\"Patient ID:\", sample[\"patient_id\"])\n",
    "print(\"Label:\", sample[\"label\"], \"TP:\", sample[\"tp\"], \"CAD:\", sample[\"cad\"])\n",
    "\n",
    "# Inspect available views\n",
    "print(\"Views:\", list(sample[\"views\"].keys()))\n",
    "\n",
    "# Check shape of embeddings per view\n",
    "for view, arr in sample[\"views\"].items():\n",
    "    print(f\"View {view}: shape {arr.shape}, dtype {arr.dtype}\")"
   ]
  },
  {
   "cell_type": "code",
   "execution_count": null,
   "metadata": {},
   "outputs": [],
   "source": []
  }
 ],
 "metadata": {
  "kernelspec": {
   "display_name": "term2",
   "language": "python",
   "name": "python3"
  },
  "language_info": {
   "codemirror_mode": {
    "name": "ipython",
    "version": 3
   },
   "file_extension": ".py",
   "mimetype": "text/x-python",
   "name": "python",
   "nbconvert_exporter": "python",
   "pygments_lexer": "ipython3",
   "version": "3.12.7"
  }
 },
 "nbformat": 4,
 "nbformat_minor": 2
}
